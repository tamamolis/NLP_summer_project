{
 "cells": [
  {
   "cell_type": "markdown",
   "metadata": {},
   "source": [
    "# NB: CNTK нет под MAC OS\n",
    "# CNTK 202: Language Understanding with Recurrent Networks\n",
    "https://cntk.ai/pythondocs/CNTK_202_Language_Understanding.html\n",
    "\n",
    "В этом туториале показано, как реализовать рекуррентную сеть для обработки текста для задачи Air Services Information Services (ATIS) по размещению слотов (поместить отдельные слова в соответствующие классы, где классы предоставляются как метки в наборе данных обучения).\n",
    "\n",
    "## Задача ATIS, датасет: https://catalog.ldc.upenn.edu/LDC95S26 \n",
    "\n",
    "В этом уроке есть две части: \n",
    "1: мы помечаем каждое слово в последовательности на соответствующую метку.\n",
    "2: Мы будем помечать последовательность её соответствующим тэгом (intent? целью?).\n",
    "\n",
    "Используемые технологии: *model description by composing layer blocks, a convenient way to compose networks/models without requiring the need to write formulas, creating your own layer block variables with different sequence lengths in the same network, training the network*"
   ]
  }
 ],
 "metadata": {
  "kernelspec": {
   "display_name": "Python 3",
   "language": "python",
   "name": "python3"
  },
  "language_info": {
   "codemirror_mode": {
    "name": "ipython",
    "version": 3
   },
   "file_extension": ".py",
   "mimetype": "text/x-python",
   "name": "python",
   "nbconvert_exporter": "python",
   "pygments_lexer": "ipython3",
   "version": "3.6.3"
  }
 },
 "nbformat": 4,
 "nbformat_minor": 2
}
