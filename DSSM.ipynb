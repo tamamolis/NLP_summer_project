{
 "cells": [
  {
   "cell_type": "markdown",
   "metadata": {},
   "source": [
    "# DSSM on Tensorflow\n",
    "http://liaha.github.io/models/2016/06/21/dssm-on-tensorflow.html\n",
    "\n",
    "## Model input\n",
    "Вход -- это запросы и документы отображаемые на т.н. n-граммовые пространства. N-gram определяются как последовательность из n-букв. Слово, например «good», сначала обрамляется хэштегами с обеих сторон: «# good #». Затем оно отображается в список из триграмм: (#go, goo, ood, od #) (почему три? потому что буква \"о\" повторяется дважды). Поскольку количество символов ограничено, количество возможных n-граммов также ограничено. Обычно (показано на рис. ниже) вектор из 500K слов может быть сопоставлен с векторами n-грамм, размер которых примерно 30K.\n",
    "\n",
    "<p aling=\"center\"><img src=\"https://i.stack.imgur.com/Zwsmz.png\"></p>\n",
    "\n",
    "Одновременно вводятся один запрос и несколько документов. Только один из документов, D1, наиболее связан с запросом, поэтому он является положительным документом. Другие документы - негативные, они не связаны с запросом. Типичный ввод запроса/документа показан ниже:\n",
    "\n",
    "46238:1 24108:1 24016:1 5618:1 8818:1\n",
    "\n",
    "Пара N:X означает следующее: Nth n-gram появляется X раз в запросе/документе."
   ]
  },
  {
   "cell_type": "code",
   "execution_count": null,
   "metadata": {},
   "outputs": [],
   "source": []
  },
  {
   "cell_type": "code",
   "execution_count": null,
   "metadata": {},
   "outputs": [],
   "source": []
  }
 ],
 "metadata": {
  "kernelspec": {
   "display_name": "Python 3",
   "language": "python",
   "name": "python3"
  },
  "language_info": {
   "codemirror_mode": {
    "name": "ipython",
    "version": 3
   },
   "file_extension": ".py",
   "mimetype": "text/x-python",
   "name": "python",
   "nbconvert_exporter": "python",
   "pygments_lexer": "ipython3",
   "version": "3.6.3"
  }
 },
 "nbformat": 4,
 "nbformat_minor": 2
}
